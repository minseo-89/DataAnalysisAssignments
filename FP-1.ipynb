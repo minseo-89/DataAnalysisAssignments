{
 "cells": [
  {
   "attachments": {},
   "cell_type": "markdown",
   "metadata": {},
   "source": [
    "___\n",
    "\n",
    "# <span style=\"color:blue\">Predicting Student Mental Distress: The Impact of Academic and Environmental Factors</span>\n",
    "\n",
    "\n",
    "### Overview:\n",
    "\n",
    "* **Name**: <span style=\"color:blue\">Kim Minseo</span>\n",
    "* **Student number**: <span style=\"color:blue\">0100367340</span>\n",
    "\n",
    "<br>\n",
    "\n",
    "### Purpose:\n",
    "\n",
    "* <span style=\"color:blue\">The primary purpose of this project is to use student survey data to determine which academic, lifestyle, and environmental factors are the most significant predictors of mental health outcomes like depression and anxiety.</span>\n",
    "* <span style=\"color:blue\">The key **dependent variables** (DVs) are the students' mental health scores: **Depression** (depression), **Anxiety** (anxiety), and **Isolation** (isolation). These are all measured on a Likert scale (1-5).</span>\n",
    "* <span style=\"color:blue\">Key **independent variables** (IVs) include: **Academic Pressure** (academic_pressure), **Financial Concerns** (financial_concerns), **Social Relationships Score** (social_relationships), **Campus Discrimination** (campus_discrimination), and **Average Sleep** (average_sleep).</span>\n",
    "* <span style=\"color:blue\">The dataset, provided as MentalHealthSurvey.csv, contains **87** cases (individual student responses) and includes **21** total variables (3 DVs and 18 IVs).</span>\n",
    "\n",
    "\n",
    "<br>"
   ]
  },
  {
   "cell_type": "markdown",
   "metadata": {},
   "source": [
    "### Dataset source:\n",
    "\n",
    "* <span style=\"color:blue\">The data come from the [Student Mental Health Survey](https://www.kaggle.com/datasets/abdullahashfaqvirk/student-mental-health-survey) dataset from the [Kaggle Machine Learning repository](https://www.kaggle.com/datasets):</span>\n",
    "\n",
    "* <span style=\"color:blue\">The data are available for download [here](https://www.kaggle.com/datasets/abdullahashfaqvirk/student-mental-health-survey).</span>\n",
    "\n",
    "* <span style=\"color:blue\">Analyses of this dataset have been published previously by the original author and are available on the dataset page.</span>\n",
    "\n",
    "#### References:\n",
    "\n",
    "* <span style=\"color:blue\">Dataset Source: Abdullah Ashfaq Virk (2023). Student Mental Health Survey. Kaggle. [https://www.kaggle.com/datasets/abdullahashfaqvirk/student-mental-health-survey](https://www.kaggle.com/datasets/abdullahashfaqvirk/student-mental-health-survey)</span>"
   ]
  }
 ],
 "metadata": {
  "kernelspec": {
   "display_name": "Python [conda env:base] *",
   "language": "python",
   "name": "conda-base-py"
  },
  "language_info": {
   "codemirror_mode": {
    "name": "ipython",
    "version": 3
   },
   "file_extension": ".py",
   "mimetype": "text/x-python",
   "name": "python",
   "nbconvert_exporter": "python",
   "pygments_lexer": "ipython3",
   "version": "3.13.5"
  }
 },
 "nbformat": 4,
 "nbformat_minor": 4
}
